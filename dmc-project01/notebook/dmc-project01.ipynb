{
 "cells": [
  {
   "cell_type": "code",
   "execution_count": 1,
   "id": "29b4d089",
   "metadata": {},
   "outputs": [],
   "source": [
    "# Importing libraries\n",
    "\n",
    "import pandas as pd \n",
    "import numpy as np\n",
    "import matplotlib.pyplot as plt\n",
    "import seaborn as sns\n",
    "from scipy.stats import mode"
   ]
  },
  {
   "cell_type": "code",
   "execution_count": 2,
   "id": "ae395249",
   "metadata": {},
   "outputs": [
    {
     "data": {
      "text/html": [
       "<div>\n",
       "<style scoped>\n",
       "    .dataframe tbody tr th:only-of-type {\n",
       "        vertical-align: middle;\n",
       "    }\n",
       "\n",
       "    .dataframe tbody tr th {\n",
       "        vertical-align: top;\n",
       "    }\n",
       "\n",
       "    .dataframe thead th {\n",
       "        text-align: right;\n",
       "    }\n",
       "</style>\n",
       "<table border=\"1\" class=\"dataframe\">\n",
       "  <thead>\n",
       "    <tr style=\"text-align: right;\">\n",
       "      <th></th>\n",
       "      <th>FechaProgramacion</th>\n",
       "      <th>Fabrica</th>\n",
       "      <th>Seccion</th>\n",
       "      <th>Linea</th>\n",
       "      <th>Equipo</th>\n",
       "      <th>TiempoPNP</th>\n",
       "    </tr>\n",
       "  </thead>\n",
       "  <tbody>\n",
       "    <tr>\n",
       "      <th>0</th>\n",
       "      <td>2018-07-19</td>\n",
       "      <td>Envases</td>\n",
       "      <td>Envasado Evaporada</td>\n",
       "      <td>Linea Baby 4</td>\n",
       "      <td>TRANSP CABLE ELEVADO ENFRIADOR</td>\n",
       "      <td>45.0</td>\n",
       "    </tr>\n",
       "    <tr>\n",
       "      <th>1</th>\n",
       "      <td>2018-07-19</td>\n",
       "      <td>Envases</td>\n",
       "      <td>Envasado Evaporada</td>\n",
       "      <td>Linea Baby 4</td>\n",
       "      <td>TRANSP CABLE ELEVADO CERRADORA</td>\n",
       "      <td>45.0</td>\n",
       "    </tr>\n",
       "    <tr>\n",
       "      <th>2</th>\n",
       "      <td>2018-07-19</td>\n",
       "      <td>Envases</td>\n",
       "      <td>Envasado Evaporada</td>\n",
       "      <td>Linea Baby 4</td>\n",
       "      <td>TABLERO AUTOMATISMO ESTERILIZADOR</td>\n",
       "      <td>45.0</td>\n",
       "    </tr>\n",
       "    <tr>\n",
       "      <th>3</th>\n",
       "      <td>2018-07-19</td>\n",
       "      <td>Envases</td>\n",
       "      <td>Envasado Evaporada</td>\n",
       "      <td>Linea Baby 4</td>\n",
       "      <td>ROBOT PALETIZADOR KUKA</td>\n",
       "      <td>45.0</td>\n",
       "    </tr>\n",
       "    <tr>\n",
       "      <th>4</th>\n",
       "      <td>2018-07-19</td>\n",
       "      <td>Envases</td>\n",
       "      <td>Envasado Evaporada</td>\n",
       "      <td>Linea Baby 4</td>\n",
       "      <td>ETIQUETADORA</td>\n",
       "      <td>45.0</td>\n",
       "    </tr>\n",
       "  </tbody>\n",
       "</table>\n",
       "</div>"
      ],
      "text/plain": [
       "  FechaProgramacion  Fabrica             Seccion         Linea  \\\n",
       "0        2018-07-19  Envases  Envasado Evaporada  Linea Baby 4   \n",
       "1        2018-07-19  Envases  Envasado Evaporada  Linea Baby 4   \n",
       "2        2018-07-19  Envases  Envasado Evaporada  Linea Baby 4   \n",
       "3        2018-07-19  Envases  Envasado Evaporada  Linea Baby 4   \n",
       "4        2018-07-19  Envases  Envasado Evaporada  Linea Baby 4   \n",
       "\n",
       "                              Equipo  TiempoPNP  \n",
       "0     TRANSP CABLE ELEVADO ENFRIADOR       45.0  \n",
       "1     TRANSP CABLE ELEVADO CERRADORA       45.0  \n",
       "2  TABLERO AUTOMATISMO ESTERILIZADOR       45.0  \n",
       "3             ROBOT PALETIZADOR KUKA       45.0  \n",
       "4                       ETIQUETADORA       45.0  "
      ]
     },
     "execution_count": 2,
     "metadata": {},
     "output_type": "execute_result"
    }
   ],
   "source": [
    "# Load data into dataframe\n",
    "\n",
    "url = 'data lac.xlsx'\n",
    "\n",
    "df_lac = pd.read_excel(url)\n",
    "df_lac.head()"
   ]
  },
  {
   "cell_type": "markdown",
   "id": "f27eeb8d",
   "metadata": {},
   "source": [
    "### Pregunta Nº 1: \n",
    "\n",
    "> **_Realizar un análisis exploratorio de datos (Selección de filas, columnas, agrupación de variables con funciones de agregación)_**"
   ]
  },
  {
   "cell_type": "code",
   "execution_count": 3,
   "id": "c70c0815",
   "metadata": {},
   "outputs": [
    {
     "data": {
      "text/html": [
       "<div>\n",
       "<style scoped>\n",
       "    .dataframe tbody tr th:only-of-type {\n",
       "        vertical-align: middle;\n",
       "    }\n",
       "\n",
       "    .dataframe tbody tr th {\n",
       "        vertical-align: top;\n",
       "    }\n",
       "\n",
       "    .dataframe thead th {\n",
       "        text-align: right;\n",
       "    }\n",
       "</style>\n",
       "<table border=\"1\" class=\"dataframe\">\n",
       "  <thead>\n",
       "    <tr style=\"text-align: right;\">\n",
       "      <th></th>\n",
       "      <th>TiempoPNP</th>\n",
       "    </tr>\n",
       "  </thead>\n",
       "  <tbody>\n",
       "    <tr>\n",
       "      <th>count</th>\n",
       "      <td>9999.000000</td>\n",
       "    </tr>\n",
       "    <tr>\n",
       "      <th>mean</th>\n",
       "      <td>85.944594</td>\n",
       "    </tr>\n",
       "    <tr>\n",
       "      <th>std</th>\n",
       "      <td>67.778384</td>\n",
       "    </tr>\n",
       "    <tr>\n",
       "      <th>min</th>\n",
       "      <td>5.000000</td>\n",
       "    </tr>\n",
       "    <tr>\n",
       "      <th>25%</th>\n",
       "      <td>40.000000</td>\n",
       "    </tr>\n",
       "    <tr>\n",
       "      <th>50%</th>\n",
       "      <td>67.000000</td>\n",
       "    </tr>\n",
       "    <tr>\n",
       "      <th>75%</th>\n",
       "      <td>113.000000</td>\n",
       "    </tr>\n",
       "    <tr>\n",
       "      <th>max</th>\n",
       "      <td>360.000000</td>\n",
       "    </tr>\n",
       "  </tbody>\n",
       "</table>\n",
       "</div>"
      ],
      "text/plain": [
       "         TiempoPNP\n",
       "count  9999.000000\n",
       "mean     85.944594\n",
       "std      67.778384\n",
       "min       5.000000\n",
       "25%      40.000000\n",
       "50%      67.000000\n",
       "75%     113.000000\n",
       "max     360.000000"
      ]
     },
     "execution_count": 3,
     "metadata": {},
     "output_type": "execute_result"
    }
   ],
   "source": [
    "# Mostrando las medidas de tendecia central de la variable cuantitativa (numérica)\n",
    "\n",
    "df_lac.describe()\n",
    "\n",
    "# Cantidad de Registros: 9999\n",
    "# Media de los datos: 85.94\n",
    "# Desviación estandar: 67.77\n",
    "# Valor mínimo: 5\n",
    "# Valor del primer quartil: 40\n",
    "# Valor de la mediana (segundo quartil): 67\n",
    "# Valor del tercer quartil: 113\n",
    "# Valor máximo: 360"
   ]
  },
  {
   "cell_type": "code",
   "execution_count": 4,
   "id": "3e66ea25",
   "metadata": {},
   "outputs": [
    {
     "data": {
      "text/plain": [
       "array(['Linea Baby 1', 'Linea Baby 2', 'Linea Baby 3', 'Linea Baby 4',\n",
       "       'Linea Baby 6', 'Linea Baby 7'], dtype=object)"
      ]
     },
     "execution_count": 4,
     "metadata": {},
     "output_type": "execute_result"
    }
   ],
   "source": [
    "# Obteniendo los valores únicos de la columna Linea\n",
    "np.unique(df_lac.Linea)"
   ]
  },
  {
   "cell_type": "code",
   "execution_count": 5,
   "id": "4273656f",
   "metadata": {},
   "outputs": [
    {
     "data": {
      "text/plain": [
       "Timedelta('185 days 21:55:27.827587962')"
      ]
     },
     "execution_count": 5,
     "metadata": {},
     "output_type": "execute_result"
    }
   ],
   "source": [
    "# Desviación estándar para el feature FechaProgramación\n",
    "np.std(df_lac.FechaProgramacion, ddof = 1)"
   ]
  },
  {
   "cell_type": "code",
   "execution_count": 6,
   "id": "e623e2ec",
   "metadata": {},
   "outputs": [
    {
     "data": {
      "text/plain": [
       "67.77838381368686"
      ]
     },
     "execution_count": 6,
     "metadata": {},
     "output_type": "execute_result"
    }
   ],
   "source": [
    "# Desviación estándar para el feature TiempoPNP\n",
    "np.std(df_lac.TiempoPNP, ddof = 1)"
   ]
  },
  {
   "cell_type": "markdown",
   "id": "b0ccf5d6",
   "metadata": {},
   "source": [
    "### Pregunta Nº 2: \n",
    "\n",
    "> **_Realizar boxplots e histogramas de la variable numérica (comparar) medidas de tendencia central y estadísticos de posición. (TiempoPNP)_**"
   ]
  },
  {
   "cell_type": "code",
   "execution_count": 7,
   "id": "93f85c3a",
   "metadata": {},
   "outputs": [
    {
     "data": {
      "image/png": "[encoded data removed]",
      "text/plain": [
       "<Figure size 640x480 with 1 Axes>"
      ]
     },
     "metadata": {},
     "output_type": "display_data"
    }
   ],
   "source": [
    "plt.boxplot(df_lac.TiempoPNP)\n",
    "plt.show()\n",
    "\n",
    "# La mediana del feature TiempoPNP es 67. Esto se puede visualizar en el boxplot a continuación."
   ]
  },
  {
   "cell_type": "markdown",
   "id": "e0d99173",
   "metadata": {},
   "source": [
    "1. Valor mínimo: 5 \n",
    "1. Valor del primer quartil: 40\n",
    "1. Valor de la mediana (segundo quartil): 67\n",
    "1. Valor del tercer quartil: 113\n",
    "1. Valor máximo: 360\n",
    "\n",
    "Los valores indicados arriba, se pueden visualizar facilmente en el boxplot."
   ]
  },
  {
   "cell_type": "code",
   "execution_count": 8,
   "id": "050f5d02",
   "metadata": {},
   "outputs": [
    {
     "data": {
      "text/plain": [
       "ModeResult(mode=array([20.]), count=array([315]))"
      ]
     },
     "execution_count": 8,
     "metadata": {},
     "output_type": "execute_result"
    }
   ],
   "source": [
    "# Calculando la moda de TiempoPNP\n",
    "mode(df_lac.TiempoPNP)"
   ]
  },
  {
   "cell_type": "code",
   "execution_count": 9,
   "id": "ef6ebf37",
   "metadata": {},
   "outputs": [
    {
     "data": {
      "image/png": "[encoded data removed]",
      "text/plain": [
       "<Figure size 500x500 with 1 Axes>"
      ]
     },
     "metadata": {},
     "output_type": "display_data"
    }
   ],
   "source": [
    "# Histograma del feature TiempoPNP \n",
    "sns.displot(x = df_lac.TiempoPNP, kde = True, kde_kws = {'cumulative': True});\n",
    "plt.show()"
   ]
  },
  {
   "cell_type": "code",
   "execution_count": 10,
   "id": "b81df2ec",
   "metadata": {},
   "outputs": [
    {
     "name": "stderr",
     "output_type": "stream",
     "text": [
      "/Users/dev-kazum/developer/venv-python/tasks/lib/python3.9/site-packages/seaborn/distributions.py:2619: FutureWarning: `distplot` is a deprecated function and will be removed in a future version. Please adapt your code to use either `displot` (a figure-level function with similar flexibility) or `histplot` (an axes-level function for histograms).\n",
      "  warnings.warn(msg, FutureWarning)\n"
     ]
    },
    {
     "data": {
      "image/png": "[encoded data removed]",
      "text/plain": [
       "<Figure size 640x480 with 1 Axes>"
      ]
     },
     "metadata": {},
     "output_type": "display_data"
    }
   ],
   "source": [
    "# Histograma del feature TiempoPNP Normalizada\n",
    "sns.distplot(x = df_lac.TiempoPNP, kde = True,);\n",
    "plt.show()"
   ]
  },
  {
   "cell_type": "code",
   "execution_count": 11,
   "id": "73edbdcf",
   "metadata": {},
   "outputs": [
    {
     "name": "stderr",
     "output_type": "stream",
     "text": [
      "/Users/dev-kazum/developer/venv-python/tasks/lib/python3.9/site-packages/seaborn/distributions.py:2619: FutureWarning: `distplot` is a deprecated function and will be removed in a future version. Please adapt your code to use either `displot` (a figure-level function with similar flexibility) or `histplot` (an axes-level function for histograms).\n",
      "  warnings.warn(msg, FutureWarning)\n"
     ]
    },
    {
     "data": {
      "image/png": "[encoded data removed]",
      "text/plain": [
       "<Figure size 640x480 with 1 Axes>"
      ]
     },
     "metadata": {},
     "output_type": "display_data"
    }
   ],
   "source": [
    "# Histograma del feature TiempoPNP (Acumulado)\n",
    "sns.distplot(x = df_lac.TiempoPNP, kde = True, hist_kws = {'cumulative': True}, kde_kws = {'cumulative': True});\n",
    "plt.show()"
   ]
  },
  {
   "cell_type": "code",
   "execution_count": 12,
   "id": "549b1549",
   "metadata": {},
   "outputs": [
    {
     "data": {
      "image/png": "[encoded data removed]",
      "text/plain": [
       "<Figure size 1000x500 with 1 Axes>"
      ]
     },
     "metadata": {},
     "output_type": "display_data"
    }
   ],
   "source": [
    "# Boxplot Linea / TiempoPNP\n",
    "\n",
    "plt.figure(figsize=(10,5))\n",
    "fig = sns.boxplot(x=\"Linea\", y=\"TiempoPNP\", data=df_lac)\n",
    "plt.show()"
   ]
  },
  {
   "cell_type": "markdown",
   "id": "05aa08dd",
   "metadata": {},
   "source": [
    "Analisis del feature cuantitativo (TiempoPNP) con una de las variables categóricas (Linea)"
   ]
  },
  {
   "cell_type": "markdown",
   "id": "df2c4524",
   "metadata": {},
   "source": [
    "### Pregunta Nº 3: \n",
    "> **_Hacer un modelo weibull con el tiempo PNP indicar los parámetros de forma (shape) y escala del modelo_**"
   ]
  },
  {
   "cell_type": "code",
   "execution_count": 13,
   "id": "7b84262f",
   "metadata": {},
   "outputs": [],
   "source": [
    "%load_ext rpy2.ipython"
   ]
  },
  {
   "cell_type": "code",
   "execution_count": 14,
   "id": "4e323aa6",
   "metadata": {},
   "outputs": [
    {
     "name": "stdout",
     "output_type": "stream",
     "text": [
      "--- Please select a CRAN mirror for use in this session ---\n",
      "Secure CRAN mirrors \n",
      "\n",
      " 1: 0-Cloud [https]\n",
      " 2: Australia (Canberra) [https]\n",
      " 3: Australia (Melbourne 1) [https]\n",
      " 4: Australia (Melbourne 2) [https]\n",
      " 5: Australia (Perth) [https]\n",
      " 6: Austria [https]\n",
      " 7: Belgium (Brussels) [https]\n",
      " 8: Brazil (BA) [https]\n",
      " 9: Brazil (PR) [https]\n",
      "10: Brazil (RJ) [https]\n",
      "11: Brazil (SP 1) [https]\n",
      "12: Brazil (SP 2) [https]\n",
      "13: Bulgaria [https]\n",
      "14: Canada (MB) [https]\n",
      "15: Canada (ON 2) [https]\n",
      "16: Canada (ON 3) [https]\n",
      "17: Chile (Santiago) [https]\n",
      "18: China (Beijing 2) [https]\n",
      "19: China (Hefei) [https]\n",
      "20: China (Hong Kong) [https]\n",
      "21: China (Guangzhou) [https]\n",
      "22: China (Lanzhou) [https]\n",
      "23: China (Nanjing) [https]\n",
      "24: China (Shanghai 1) [https]\n",
      "25: China (Shanghai 2) [https]\n",
      "26: China (Shenzhen) [https]\n",
      "27: Costa Rica [https]\n",
      "28: Cyprus [https]\n",
      "29: Czech Republic [https]\n",
      "30: Denmark [https]\n",
      "31: East Asia [https]\n",
      "32: Ecuador (Cuenca) [https]\n",
      "33: Ecuador (Quito) [https]\n",
      "34: Estonia [https]\n",
      "35: France (Lyon 1) [https]\n",
      "36: France (Lyon 2) [https]\n",
      "37: France (Marseille) [https]\n",
      "38: France (Montpellier) [https]\n",
      "39: France (Paris 1) [https]\n",
      "40: Germany (Erlangen) [https]\n",
      "41: Germany (Leipzig) [https]\n",
      "42: Germany (Göttingen) [https]\n",
      "43: Germany (Münster) [https]\n",
      "44: Germany (Regensburg) [https]\n",
      "45: Greece [https]\n",
      "46: Hungary [https]\n",
      "47: Iceland [https]\n",
      "48: India [https]\n",
      "49: Indonesia (Jakarta) [https]\n",
      "50: Iran [https]\n",
      "51: Italy (Milano) [https]\n",
      "52: Italy (Padua) [https]\n",
      "53: Japan (Tokyo) [https]\n",
      "54: Korea (Gyeongsan-si) [https]\n",
      "55: Korea (Seoul 1) [https]\n",
      "56: Korea (Ulsan) [https]\n",
      "57: Malaysia [https]\n",
      "58: Mexico (Mexico City) [https]\n",
      "59: Mexico (Texcoco) [https]\n",
      "60: Morocco [https]\n",
      "61: Netherlands [https]\n",
      "62: New Zealand [https]\n",
      "63: Norway [https]\n",
      "64: Russia (Moscow) [https]\n",
      "65: South Africa (Johannesburg) [https]\n",
      "66: Spain (A Coruña) [https]\n",
      "67: Spain (Madrid) [https]\n",
      "68: Sweden (Borås) [https]\n",
      "69: Sweden (Umeå) [https]\n",
      "70: Switzerland [https]\n",
      "71: Taiwan (Taipei) [https]\n",
      "72: Turkey (Denizli) [https]\n",
      "73: Turkey (Istanbul) [https]\n",
      "74: Turkey (Mersin) [https]\n",
      "75: UK (Bristol) [https]\n",
      "76: UK (London 1) [https]\n",
      "77: USA (IA) [https]\n",
      "78: USA (KS) [https]\n",
      "79: USA (MI) [https]\n",
      "80: USA (OH) [https]\n",
      "81: USA (OR) [https]\n",
      "82: USA (TN) [https]\n",
      "83: USA (TX 1) [https]\n",
      "84: Uruguay [https]\n",
      "85: (other mirrors)\n",
      "\n",
      "Selection: 8\n"
     ]
    },
    {
     "name": "stderr",
     "output_type": "stream",
     "text": [
      "R[write to console]: Warning:\n",
      "R[write to console]:  unable to access index for repository https://nbcgib.uesc.br/mirrors/cran/src/contrib:\n",
      "  cannot open URL 'https://nbcgib.uesc.br/mirrors/cran/src/contrib/PACKAGES'\n",
      "\n",
      "R[write to console]: Warning:\n",
      "R[write to console]:  unable to access index for repository https://nbcgib.uesc.br/mirrors/cran/bin/macosx/contrib/4.1:\n",
      "  cannot open URL 'https://nbcgib.uesc.br/mirrors/cran/bin/macosx/contrib/4.1/PACKAGES'\n",
      "\n",
      "R[write to console]: Warning:\n",
      "R[write to console]:  unable to access index for repository https://nbcgib.uesc.br/mirrors/cran/src/contrib:\n",
      "  cannot open URL 'https://nbcgib.uesc.br/mirrors/cran/src/contrib/PACKAGES'\n",
      "\n",
      "R[write to console]: Warning:\n",
      "R[write to console]:  unable to access index for repository https://nbcgib.uesc.br/mirrors/cran/bin/macosx/contrib/4.1:\n",
      "  cannot open URL 'https://nbcgib.uesc.br/mirrors/cran/bin/macosx/contrib/4.1/PACKAGES'\n",
      "\n",
      "R[write to console]: Warning:\n",
      "R[write to console]:  unable to access index for repository https://nbcgib.uesc.br/mirrors/cran/src/contrib:\n",
      "  cannot open URL 'https://nbcgib.uesc.br/mirrors/cran/src/contrib/PACKAGES'\n",
      "\n",
      "R[write to console]: Warning:\n",
      "R[write to console]:  unable to access index for repository https://nbcgib.uesc.br/mirrors/cran/bin/macosx/contrib/4.1:\n",
      "  cannot open URL 'https://nbcgib.uesc.br/mirrors/cran/bin/macosx/contrib/4.1/PACKAGES'\n",
      "\n",
      "R[write to console]: \n",
      "Attaching package: ‘dplyr’\n",
      "\n",
      "\n",
      "R[write to console]: The following object is masked from ‘package:MASS’:\n",
      "\n",
      "    select\n",
      "\n",
      "\n",
      "R[write to console]: The following objects are masked from ‘package:stats’:\n",
      "\n",
      "    filter, lag\n",
      "\n",
      "\n",
      "R[write to console]: The following objects are masked from ‘package:base’:\n",
      "\n",
      "    intersect, setdiff, setequal, union\n",
      "\n",
      "\n"
     ]
    }
   ],
   "source": [
    "%%R\n",
    "\n",
    "install.packages('rriskDistributions')\n",
    "install.packages('MASS')\n",
    "install.packages('dplyr')\n",
    "\n",
    "library(rriskDistributions)\n",
    "library(MASS)\n",
    "library(dplyr)"
   ]
  },
  {
   "cell_type": "code",
   "execution_count": 15,
   "id": "e48c4d50",
   "metadata": {},
   "outputs": [
    {
     "data": {
      "image/png": "[encoded data removed]"
     },
     "metadata": {},
     "output_type": "display_data"
    }
   ],
   "source": [
    "%%R\n",
    "\n",
    "\n",
    "data = read.csv(file = 'data lac.csv', sep = ',') # cambiar por tu ruta local\n",
    "head(data) \n",
    "\n",
    "data = data %>%\n",
    "  select(TiempoPNP) \n",
    "\n",
    "TiempoPNP = data$TiempoPNP\n",
    "\n",
    "hist(TiempoPNP, col = 'red', freq = 0)"
   ]
  },
  {
   "cell_type": "code",
   "execution_count": 16,
   "id": "c4d79d7c",
   "metadata": {},
   "outputs": [
    {
     "name": "stdout",
     "output_type": "stream",
     "text": [
      "      shape         scale   \n",
      "   1.37752840   94.63353969 \n",
      " ( 0.01021116) ( 0.72733571)\n"
     ]
    }
   ],
   "source": [
    "%%R\n",
    "\n",
    "# Calculando los valores de escala y de forma\n",
    "fitdistr(TiempoPNP, densfun = 'weibull')\n"
   ]
  },
  {
   "cell_type": "markdown",
   "id": "cdcc9f65",
   "metadata": {},
   "source": [
    "#### Se intentó revalidar los valores arrojados, pero no se pudo debido a un error con una libreria.\n",
    "\n",
    "fit.cont(TiempoPNP)\n",
    "\n",
    "#### Tengo problemas con una libreria X11 para plotear externamente.\n",
    "\n",
    "> RInterpreterError: Failed to parse and evaluate line '\\nfit.cont(TiempoPNP)\\n. R error message: \"Error: .onLoad failed in loadNamespace() for 'tcltk', details:\\n  call: fun(libname, pkgname)\\n  error: X11 library is missing: install XQuartz from www.xquartz.org\""
   ]
  },
  {
   "cell_type": "code",
   "execution_count": 17,
   "id": "62428d84",
   "metadata": {},
   "outputs": [
    {
     "name": "stdout",
     "output_type": "stream",
     "text": [
      "[1] 0.5491581\n"
     ]
    }
   ],
   "source": [
    "%%R\n",
    "\n",
    "pweibull(100, 1.37752, 94.6335) - pweibull(20, 1.37752, 94.6335) "
   ]
  },
  {
   "cell_type": "markdown",
   "id": "c85bf91b",
   "metadata": {},
   "source": [
    "Validamos que existe un 54.9% de probabilidades de encontrar valores entre 20 y 100"
   ]
  },
  {
   "cell_type": "code",
   "execution_count": 18,
   "id": "5a964504",
   "metadata": {},
   "outputs": [
    {
     "name": "stdout",
     "output_type": "stream",
     "text": [
      "[1] 0.3399546\n"
     ]
    }
   ],
   "source": [
    "%%R\n",
    "\n",
    "1 - pweibull(100, 1.37752, 94.6335) "
   ]
  },
  {
   "cell_type": "markdown",
   "id": "470f50c4",
   "metadata": {},
   "source": [
    "Validamos que existe un 33.9% de probabilidades de encontrar valores mayores a 100"
   ]
  },
  {
   "cell_type": "code",
   "execution_count": 19,
   "id": "dba4025f",
   "metadata": {},
   "outputs": [
    {
     "name": "stdout",
     "output_type": "stream",
     "text": [
      "[1] 0.1108873\n"
     ]
    }
   ],
   "source": [
    "%%R\n",
    "\n",
    "pweibull(20, 1.37752, 94.6335) "
   ]
  },
  {
   "cell_type": "markdown",
   "id": "b217a9b7",
   "metadata": {},
   "source": [
    "Validamos que existe un 11% de probabilidades de encontrar valores menores a 20"
   ]
  }
 ],
 "metadata": {
  "kernelspec": {
   "display_name": "Python 3",
   "language": "python",
   "name": "python3"
  },
  "language_info": {
   "codemirror_mode": {
    "name": "ipython",
    "version": 3
   },
   "file_extension": ".py",
   "mimetype": "text/x-python",
   "name": "python",
   "nbconvert_exporter": "python",
   "pygments_lexer": "ipython3",
   "version": "3.9.6"
  }
 },
 "nbformat": 4,
 "nbformat_minor": 5
}
